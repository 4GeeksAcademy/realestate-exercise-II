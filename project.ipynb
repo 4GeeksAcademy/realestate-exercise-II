{
 "cells": [
  {
   "attachments": {},
   "cell_type": "markdown",
   "id": "innocent-university",
   "metadata": {},
   "source": [
    "# Real Estate Clean up\n",
    "\n",
    "This is a real dataset and it was downloaded using web scraping techniques. The data contains registers from fotocasa which is one of the most popular websites of real estate in Spain. Please, do not do this (web scraping) unless it is for academic purposes.\n",
    "\n",
    "The dataset was downloaded a few years ago by Henry Navarro and In no case were economic returns obtained from it.\n",
    "\n",
    "It contains thousands of data from real houses published on the web www.fotocasa.com. Your goal is to extract as much information as possible with the knowledge you have so far about data science, for example what is the most expensive house in the entire dataset?\n",
    "\n",
    "Let's start with precisely that question... Good luck!"
   ]
  },
  {
   "attachments": {},
   "cell_type": "markdown",
   "id": "multiple-glass",
   "metadata": {},
   "source": [
    "#### Exercise 00. Read the dataset assets/real_estate.csv and try to visualize the table (★☆☆)"
   ]
  },
  {
   "cell_type": "code",
   "execution_count": 1,
   "id": "frank-heath",
   "metadata": {},
   "outputs": [
    {
     "data": {
      "text/html": [
       "<div>\n",
       "<style scoped>\n",
       "    .dataframe tbody tr th:only-of-type {\n",
       "        vertical-align: middle;\n",
       "    }\n",
       "\n",
       "    .dataframe tbody tr th {\n",
       "        vertical-align: top;\n",
       "    }\n",
       "\n",
       "    .dataframe thead th {\n",
       "        text-align: right;\n",
       "    }\n",
       "</style>\n",
       "<table border=\"1\" class=\"dataframe\">\n",
       "  <thead>\n",
       "    <tr style=\"text-align: right;\">\n",
       "      <th></th>\n",
       "      <th>Unnamed: 0</th>\n",
       "      <th>id_realEstates</th>\n",
       "      <th>isNew</th>\n",
       "      <th>realEstate_name</th>\n",
       "      <th>phone_realEstate</th>\n",
       "      <th>url_inmueble</th>\n",
       "      <th>rooms</th>\n",
       "      <th>bathrooms</th>\n",
       "      <th>surface</th>\n",
       "      <th>price</th>\n",
       "      <th>...</th>\n",
       "      <th>level4Id</th>\n",
       "      <th>level5Id</th>\n",
       "      <th>level6Id</th>\n",
       "      <th>level7Id</th>\n",
       "      <th>level8Id</th>\n",
       "      <th>accuracy</th>\n",
       "      <th>latitude</th>\n",
       "      <th>longitude</th>\n",
       "      <th>zipCode</th>\n",
       "      <th>customZone</th>\n",
       "    </tr>\n",
       "  </thead>\n",
       "  <tbody>\n",
       "    <tr>\n",
       "      <th>0</th>\n",
       "      <td>1</td>\n",
       "      <td>153771986</td>\n",
       "      <td>False</td>\n",
       "      <td>ferrari 57 inmobiliaria</td>\n",
       "      <td>912177526.0</td>\n",
       "      <td>https://www.fotocasa.es/es/comprar/vivienda/ma...</td>\n",
       "      <td>3.0</td>\n",
       "      <td>2.0</td>\n",
       "      <td>103.0</td>\n",
       "      <td>195000</td>\n",
       "      <td>...</td>\n",
       "      <td>0</td>\n",
       "      <td>0</td>\n",
       "      <td>0</td>\n",
       "      <td>0</td>\n",
       "      <td>0</td>\n",
       "      <td>0</td>\n",
       "      <td>40,2948276786438</td>\n",
       "      <td>-3,44402412135624</td>\n",
       "      <td>NaN</td>\n",
       "      <td>NaN</td>\n",
       "    </tr>\n",
       "    <tr>\n",
       "      <th>1</th>\n",
       "      <td>2</td>\n",
       "      <td>153867863</td>\n",
       "      <td>False</td>\n",
       "      <td>tecnocasa fuenlabrada ferrocarril</td>\n",
       "      <td>916358736.0</td>\n",
       "      <td>https://www.fotocasa.es/es/comprar/vivienda/ma...</td>\n",
       "      <td>3.0</td>\n",
       "      <td>1.0</td>\n",
       "      <td>NaN</td>\n",
       "      <td>89000</td>\n",
       "      <td>...</td>\n",
       "      <td>0</td>\n",
       "      <td>0</td>\n",
       "      <td>0</td>\n",
       "      <td>0</td>\n",
       "      <td>0</td>\n",
       "      <td>1</td>\n",
       "      <td>40,28674</td>\n",
       "      <td>-3,79351</td>\n",
       "      <td>NaN</td>\n",
       "      <td>NaN</td>\n",
       "    </tr>\n",
       "    <tr>\n",
       "      <th>2</th>\n",
       "      <td>3</td>\n",
       "      <td>153430440</td>\n",
       "      <td>False</td>\n",
       "      <td>look find boadilla</td>\n",
       "      <td>916350408.0</td>\n",
       "      <td>https://www.fotocasa.es/es/comprar/vivienda/ma...</td>\n",
       "      <td>2.0</td>\n",
       "      <td>2.0</td>\n",
       "      <td>99.0</td>\n",
       "      <td>390000</td>\n",
       "      <td>...</td>\n",
       "      <td>0</td>\n",
       "      <td>0</td>\n",
       "      <td>0</td>\n",
       "      <td>0</td>\n",
       "      <td>0</td>\n",
       "      <td>0</td>\n",
       "      <td>40,4115646786438</td>\n",
       "      <td>-3,90662252135624</td>\n",
       "      <td>NaN</td>\n",
       "      <td>NaN</td>\n",
       "    </tr>\n",
       "    <tr>\n",
       "      <th>3</th>\n",
       "      <td>4</td>\n",
       "      <td>152776331</td>\n",
       "      <td>False</td>\n",
       "      <td>tecnocasa fuenlabrada ferrocarril</td>\n",
       "      <td>916358736.0</td>\n",
       "      <td>https://www.fotocasa.es/es/comprar/vivienda/ma...</td>\n",
       "      <td>3.0</td>\n",
       "      <td>1.0</td>\n",
       "      <td>86.0</td>\n",
       "      <td>89000</td>\n",
       "      <td>...</td>\n",
       "      <td>0</td>\n",
       "      <td>0</td>\n",
       "      <td>0</td>\n",
       "      <td>0</td>\n",
       "      <td>0</td>\n",
       "      <td>0</td>\n",
       "      <td>40,2853785786438</td>\n",
       "      <td>-3,79508142135624</td>\n",
       "      <td>NaN</td>\n",
       "      <td>NaN</td>\n",
       "    </tr>\n",
       "    <tr>\n",
       "      <th>4</th>\n",
       "      <td>5</td>\n",
       "      <td>153180188</td>\n",
       "      <td>False</td>\n",
       "      <td>ferrari 57 inmobiliaria</td>\n",
       "      <td>912177526.0</td>\n",
       "      <td>https://www.fotocasa.es/es/comprar/vivienda/ma...</td>\n",
       "      <td>2.0</td>\n",
       "      <td>2.0</td>\n",
       "      <td>106.0</td>\n",
       "      <td>172000</td>\n",
       "      <td>...</td>\n",
       "      <td>0</td>\n",
       "      <td>0</td>\n",
       "      <td>0</td>\n",
       "      <td>0</td>\n",
       "      <td>0</td>\n",
       "      <td>0</td>\n",
       "      <td>40,2998774864376</td>\n",
       "      <td>-3,45226301356237</td>\n",
       "      <td>NaN</td>\n",
       "      <td>NaN</td>\n",
       "    </tr>\n",
       "    <tr>\n",
       "      <th>...</th>\n",
       "      <td>...</td>\n",
       "      <td>...</td>\n",
       "      <td>...</td>\n",
       "      <td>...</td>\n",
       "      <td>...</td>\n",
       "      <td>...</td>\n",
       "      <td>...</td>\n",
       "      <td>...</td>\n",
       "      <td>...</td>\n",
       "      <td>...</td>\n",
       "      <td>...</td>\n",
       "      <td>...</td>\n",
       "      <td>...</td>\n",
       "      <td>...</td>\n",
       "      <td>...</td>\n",
       "      <td>...</td>\n",
       "      <td>...</td>\n",
       "      <td>...</td>\n",
       "      <td>...</td>\n",
       "      <td>...</td>\n",
       "      <td>...</td>\n",
       "    </tr>\n",
       "    <tr>\n",
       "      <th>15330</th>\n",
       "      <td>15331</td>\n",
       "      <td>153901377</td>\n",
       "      <td>False</td>\n",
       "      <td>infocasa consulting</td>\n",
       "      <td>911360461.0</td>\n",
       "      <td>https://www.fotocasa.es/es/comprar/vivienda/ma...</td>\n",
       "      <td>2.0</td>\n",
       "      <td>1.0</td>\n",
       "      <td>96.0</td>\n",
       "      <td>259470</td>\n",
       "      <td>...</td>\n",
       "      <td>0</td>\n",
       "      <td>0</td>\n",
       "      <td>0</td>\n",
       "      <td>0</td>\n",
       "      <td>0</td>\n",
       "      <td>0</td>\n",
       "      <td>40,45416</td>\n",
       "      <td>-3,70286</td>\n",
       "      <td>NaN</td>\n",
       "      <td>NaN</td>\n",
       "    </tr>\n",
       "    <tr>\n",
       "      <th>15331</th>\n",
       "      <td>15332</td>\n",
       "      <td>150394373</td>\n",
       "      <td>False</td>\n",
       "      <td>inmobiliaria pulpon</td>\n",
       "      <td>912788039.0</td>\n",
       "      <td>https://www.fotocasa.es/es/comprar/vivienda/ma...</td>\n",
       "      <td>3.0</td>\n",
       "      <td>1.0</td>\n",
       "      <td>150.0</td>\n",
       "      <td>165000</td>\n",
       "      <td>...</td>\n",
       "      <td>0</td>\n",
       "      <td>0</td>\n",
       "      <td>0</td>\n",
       "      <td>0</td>\n",
       "      <td>0</td>\n",
       "      <td>0</td>\n",
       "      <td>40,36652</td>\n",
       "      <td>-3,48951</td>\n",
       "      <td>NaN</td>\n",
       "      <td>NaN</td>\n",
       "    </tr>\n",
       "    <tr>\n",
       "      <th>15332</th>\n",
       "      <td>15333</td>\n",
       "      <td>153901397</td>\n",
       "      <td>False</td>\n",
       "      <td>tecnocasa torrelodones</td>\n",
       "      <td>912780348.0</td>\n",
       "      <td>https://www.fotocasa.es/es/comprar/vivienda/ma...</td>\n",
       "      <td>4.0</td>\n",
       "      <td>2.0</td>\n",
       "      <td>175.0</td>\n",
       "      <td>495000</td>\n",
       "      <td>...</td>\n",
       "      <td>0</td>\n",
       "      <td>0</td>\n",
       "      <td>0</td>\n",
       "      <td>0</td>\n",
       "      <td>0</td>\n",
       "      <td>0</td>\n",
       "      <td>40,57444</td>\n",
       "      <td>-3,92124</td>\n",
       "      <td>NaN</td>\n",
       "      <td>NaN</td>\n",
       "    </tr>\n",
       "    <tr>\n",
       "      <th>15333</th>\n",
       "      <td>15334</td>\n",
       "      <td>152607440</td>\n",
       "      <td>False</td>\n",
       "      <td>inmobiliaria pulpon</td>\n",
       "      <td>912788039.0</td>\n",
       "      <td>https://www.fotocasa.es/es/comprar/vivienda/ma...</td>\n",
       "      <td>3.0</td>\n",
       "      <td>2.0</td>\n",
       "      <td>101.0</td>\n",
       "      <td>195000</td>\n",
       "      <td>...</td>\n",
       "      <td>0</td>\n",
       "      <td>0</td>\n",
       "      <td>0</td>\n",
       "      <td>0</td>\n",
       "      <td>0</td>\n",
       "      <td>0</td>\n",
       "      <td>40,36967</td>\n",
       "      <td>-3,48105</td>\n",
       "      <td>NaN</td>\n",
       "      <td>NaN</td>\n",
       "    </tr>\n",
       "    <tr>\n",
       "      <th>15334</th>\n",
       "      <td>15335</td>\n",
       "      <td>153901356</td>\n",
       "      <td>False</td>\n",
       "      <td>infocasa consulting</td>\n",
       "      <td>911360461.0</td>\n",
       "      <td>https://www.fotocasa.es/es/comprar/vivienda/ma...</td>\n",
       "      <td>3.0</td>\n",
       "      <td>2.0</td>\n",
       "      <td>152.0</td>\n",
       "      <td>765000</td>\n",
       "      <td>...</td>\n",
       "      <td>0</td>\n",
       "      <td>0</td>\n",
       "      <td>0</td>\n",
       "      <td>0</td>\n",
       "      <td>0</td>\n",
       "      <td>0</td>\n",
       "      <td>40,45773</td>\n",
       "      <td>-3,69068</td>\n",
       "      <td>NaN</td>\n",
       "      <td>NaN</td>\n",
       "    </tr>\n",
       "  </tbody>\n",
       "</table>\n",
       "<p>15335 rows × 37 columns</p>\n",
       "</div>"
      ],
      "text/plain": [
       "       Unnamed: 0  id_realEstates  isNew                    realEstate_name  \\\n",
       "0               1       153771986  False            ferrari 57 inmobiliaria   \n",
       "1               2       153867863  False  tecnocasa fuenlabrada ferrocarril   \n",
       "2               3       153430440  False                 look find boadilla   \n",
       "3               4       152776331  False  tecnocasa fuenlabrada ferrocarril   \n",
       "4               5       153180188  False            ferrari 57 inmobiliaria   \n",
       "...           ...             ...    ...                                ...   \n",
       "15330       15331       153901377  False                infocasa consulting   \n",
       "15331       15332       150394373  False                inmobiliaria pulpon   \n",
       "15332       15333       153901397  False             tecnocasa torrelodones   \n",
       "15333       15334       152607440  False                inmobiliaria pulpon   \n",
       "15334       15335       153901356  False                infocasa consulting   \n",
       "\n",
       "       phone_realEstate                                       url_inmueble  \\\n",
       "0           912177526.0  https://www.fotocasa.es/es/comprar/vivienda/ma...   \n",
       "1           916358736.0  https://www.fotocasa.es/es/comprar/vivienda/ma...   \n",
       "2           916350408.0  https://www.fotocasa.es/es/comprar/vivienda/ma...   \n",
       "3           916358736.0  https://www.fotocasa.es/es/comprar/vivienda/ma...   \n",
       "4           912177526.0  https://www.fotocasa.es/es/comprar/vivienda/ma...   \n",
       "...                 ...                                                ...   \n",
       "15330       911360461.0  https://www.fotocasa.es/es/comprar/vivienda/ma...   \n",
       "15331       912788039.0  https://www.fotocasa.es/es/comprar/vivienda/ma...   \n",
       "15332       912780348.0  https://www.fotocasa.es/es/comprar/vivienda/ma...   \n",
       "15333       912788039.0  https://www.fotocasa.es/es/comprar/vivienda/ma...   \n",
       "15334       911360461.0  https://www.fotocasa.es/es/comprar/vivienda/ma...   \n",
       "\n",
       "       rooms  bathrooms  surface   price  ... level4Id level5Id level6Id  \\\n",
       "0        3.0        2.0    103.0  195000  ...        0        0        0   \n",
       "1        3.0        1.0      NaN   89000  ...        0        0        0   \n",
       "2        2.0        2.0     99.0  390000  ...        0        0        0   \n",
       "3        3.0        1.0     86.0   89000  ...        0        0        0   \n",
       "4        2.0        2.0    106.0  172000  ...        0        0        0   \n",
       "...      ...        ...      ...     ...  ...      ...      ...      ...   \n",
       "15330    2.0        1.0     96.0  259470  ...        0        0        0   \n",
       "15331    3.0        1.0    150.0  165000  ...        0        0        0   \n",
       "15332    4.0        2.0    175.0  495000  ...        0        0        0   \n",
       "15333    3.0        2.0    101.0  195000  ...        0        0        0   \n",
       "15334    3.0        2.0    152.0  765000  ...        0        0        0   \n",
       "\n",
       "      level7Id level8Id accuracy          latitude          longitude zipCode  \\\n",
       "0            0        0        0  40,2948276786438  -3,44402412135624     NaN   \n",
       "1            0        0        1          40,28674           -3,79351     NaN   \n",
       "2            0        0        0  40,4115646786438  -3,90662252135624     NaN   \n",
       "3            0        0        0  40,2853785786438  -3,79508142135624     NaN   \n",
       "4            0        0        0  40,2998774864376  -3,45226301356237     NaN   \n",
       "...        ...      ...      ...               ...                ...     ...   \n",
       "15330        0        0        0          40,45416           -3,70286     NaN   \n",
       "15331        0        0        0          40,36652           -3,48951     NaN   \n",
       "15332        0        0        0          40,57444           -3,92124     NaN   \n",
       "15333        0        0        0          40,36967           -3,48105     NaN   \n",
       "15334        0        0        0          40,45773           -3,69068     NaN   \n",
       "\n",
       "      customZone  \n",
       "0            NaN  \n",
       "1            NaN  \n",
       "2            NaN  \n",
       "3            NaN  \n",
       "4            NaN  \n",
       "...          ...  \n",
       "15330        NaN  \n",
       "15331        NaN  \n",
       "15332        NaN  \n",
       "15333        NaN  \n",
       "15334        NaN  \n",
       "\n",
       "[15335 rows x 37 columns]"
      ]
     },
     "execution_count": 1,
     "metadata": {},
     "output_type": "execute_result"
    }
   ],
   "source": [
    "import pandas as pd\n",
    "import numpy as np\n",
    "import matplotlib.pyplot as plt \n",
    "\n",
    "# this CSV file contains semicolons instead of comas as separator\n",
    "ds = pd.read_csv('assets/real_estate.csv', sep=';')\n",
    "ds"
   ]
  },
  {
   "attachments": {},
   "cell_type": "markdown",
   "id": "latin-guest",
   "metadata": {},
   "source": [
    "#### Exercise 01. Which is the most expensive house in the dataset? (★☆☆)\n",
    "\n",
    "Print the address and the price of the selected house. For example:\n",
    "\n",
    "`The house with address General Street Nº5 is the most expensive and its price is 5000000 USD`"
   ]
  },
  {
   "cell_type": "code",
   "execution_count": 2,
   "id": "developing-optimum",
   "metadata": {},
   "outputs": [
    {
     "name": "stdout",
     "output_type": "stream",
     "text": [
      "House with address El Escorial is the most expensive priced at 8500000 EUR\n"
     ]
    }
   ],
   "source": [
    "ds['address'].describe()\n",
    "y=ds[['address','price']][ds['price']==ds['price'].max()].reset_index(drop=True)\n",
    "print('House with address '+str(y.loc[0,'address'])+ ' is the most expensive priced at '+str(y.loc[0,'price'])+ ' EUR')"
   ]
  },
  {
   "attachments": {},
   "cell_type": "markdown",
   "id": "lesser-cosmetic",
   "metadata": {},
   "source": [
    "#### Exercise 02. Which is cheapest house in the dataset? (★☆☆)\n",
    "\n",
    "Print the address and the price of the selected house. For example:\n",
    "\n",
    "`The house with address Concrete Street Nº1 is the cheapest and its price is 12000 USD`"
   ]
  },
  {
   "cell_type": "code",
   "execution_count": 3,
   "id": "lovely-oasis",
   "metadata": {},
   "outputs": [
    {
     "name": "stdout",
     "output_type": "stream",
     "text": [
      "           address  price\n",
      "0  Berlin, Coslada    600\n",
      "House with address Berlin, Coslada is the cheapest priced at 600 EUR\n",
      "                          address  price\n",
      "0  Mayor, Los Santos de la Humosa  16200\n",
      "1  Mayor, Los Santos de la Humosa  16200\n",
      "Two Houses with address Mayor, Los Santos de la Humosa are the cheapest priced at 16200 EUR\n"
     ]
    }
   ],
   "source": [
    "lowest=ds[ds['price']>0]['price'].min()\n",
    "y=ds[['address','price']][ds['price']==lowest].reset_index(drop=True)\n",
    "print(y)\n",
    "print('House with address '+str(y.loc[0,'address'])+ ' is the cheapest priced at '+str(y.loc[0,'price'])+ ' EUR')\n",
    "\n",
    "#600 EUR seems a quite low for a house in madrid, here is the second cheapest home:\n",
    "y=ds[['address','price']][ds['price']==ds[ds['price']>600]['price'].min()].reset_index(drop=True)\n",
    "print(y)\n",
    "print('Two Houses with address '+str(y.loc[0,'address'])+ ' are the cheapest priced at '+str(y.loc[0,'price'])+ ' EUR')\n"
   ]
  },
  {
   "attachments": {},
   "cell_type": "markdown",
   "id": "compliant-fellowship",
   "metadata": {},
   "source": [
    "#### Exercise 03. Which is the biggest and the smallest house in the dataset? (★☆☆)\n",
    "\n",
    "Print both the address and the surface of the selected houses. For example:\n",
    "\n",
    "`The bigger house is located on Yukka Street Nº10 and its surface is 5000 meters`\n",
    "\n",
    "`The smaller house is located on County Road 1 N and its surface is 200 meters`"
   ]
  },
  {
   "cell_type": "code",
   "execution_count": 4,
   "id": "every-tiffany",
   "metadata": {},
   "outputs": [
    {
     "name": "stdout",
     "output_type": "stream",
     "text": [
      "            address   surface\n",
      "0  Sevilla la Nueva  249000.0\n",
      "The biggest house is located on Sevilla la Nueva and its surface is 249000.0 squared meters\n",
      "                         address  surface\n",
      "0  Calle Amparo,  Madrid Capital     15.0\n",
      "The smallest house is located on Calle Amparo,  Madrid Capital and its surface is 15.0 squared meters\n"
     ]
    }
   ],
   "source": [
    "y=ds[['address','surface']][ds['surface']==ds['surface'].max()].reset_index(drop=True)\n",
    "print(y)\n",
    "print('The biggest house is located on '+str(y.loc[0,'address'])+ ' and its surface is '+str(y.loc[0,'surface'])+ ' squared meters')\n",
    "\n",
    "y=ds[['address','surface']][ds['surface']==ds['surface'].min()].reset_index(drop=True)\n",
    "print(y)\n",
    "print('The smallest house is located on '+str(y.loc[0,'address'])+ ' and its surface is '+str(y.loc[0,'surface'])+ ' squared meters')\n"
   ]
  },
  {
   "attachments": {},
   "cell_type": "markdown",
   "id": "danish-spirit",
   "metadata": {},
   "source": [
    "#### Exercise 04. How many populations (level5 column) the dataset contains? (★☆☆)\n",
    "\n",
    "Print the name of the populations with comma as separator. For example:\n",
    "\n",
    "`> print(populations)`\n",
    "\n",
    "`population1, population2, population3,...`"
   ]
  },
  {
   "cell_type": "code",
   "execution_count": 5,
   "id": "exciting-accreditation",
   "metadata": {},
   "outputs": [
    {
     "name": "stdout",
     "output_type": "stream",
     "text": [
      "level5\n",
      " Madrid Capital         6643\n",
      "Alcalá de Henares        525\n",
      "Las Rozas de Madrid      383\n",
      "Móstoles                 325\n",
      "Getafe                   290\n",
      "                        ... \n",
      "Brea de Tajo               1\n",
      "El Atazar                  1\n",
      "Piñuécar-gandullas         1\n",
      "Braojos                    1\n",
      "Montejo de la Sierra       1\n",
      "Name: count, Length: 168, dtype: int64\n",
      "The data contain 168 unique populations:                            level5\n",
      "                Arganda del Rey, \n",
      "                    Fuenlabrada, \n",
      "             Boadilla del Monte, \n",
      "            Las Rozas de Madrid, \n",
      "                 Madrid Capital, \n",
      "           Villaviciosa de Odón, \n",
      "                          Pinto, \n",
      "                      Valdemoro, \n",
      "                   Navalcarnero, \n",
      "             Pozuelo de Alarcón, \n",
      "              Torrejón de Ardoz, \n",
      "                  Navalagamella, \n",
      "     San Sebastián de los Reyes, \n",
      "              Rivas-vaciamadrid, \n",
      "                      Alpedrete, \n",
      "                       Móstoles, \n",
      "        San Fernando de Henares, \n",
      "                        Coslada, \n",
      "          Becerril de la Sierra, \n",
      "              Alcalá de Henares, \n",
      "                       Chinchón, \n",
      "                          Parla, \n",
      "                       Alcorcón, \n",
      "                    El Escorial, \n",
      "                        Leganés, \n",
      "                     Pedrezuela, \n",
      "                    Majadahonda, \n",
      "        Villanueva de la Cañada, \n",
      "        Villanueva del Pardillo, \n",
      "                   Torrelodones, \n",
      "                    Moralzarzal, \n",
      "             Mejorada del Campo, \n",
      "                       Aranjuez, \n",
      "                          Corpa, \n",
      "                         Getafe, \n",
      "         Velilla de San Antonio, \n",
      "               Sevilla la Nueva, \n",
      "          San Martín de la Vega, \n",
      "                    Villalbilla, \n",
      "               Collado Villalba, \n",
      "                     Alcobendas, \n",
      "              El Molar (Madrid), \n",
      "            Moraleja de Enmedio, \n",
      "                         Algete, \n",
      "                     Campo Real, \n",
      "         Torrejón de la Calzada, \n",
      "                 Colmenar Viejo, \n",
      "                   Valdemorillo, \n",
      "        Fuente El Saz de Jarama, \n",
      "                    Tres Cantos, \n",
      "         Arroyomolinos (Madrid), \n",
      "                         Griñón, \n",
      "          Paracuellos de Jarama, \n",
      "                     Guadarrama, \n",
      "                       Titulcia, \n",
      "                      Galapagar, \n",
      "                Collado Mediano, \n",
      "                    Los Molinos, \n",
      "     San Lorenzo de El Escorial, \n",
      "                        Loeches, \n",
      "    San Martín de Valdeiglesias, \n",
      "                  Navas del Rey, \n",
      "                    Bustarviejo, \n",
      "             Manzanares El Real, \n",
      "                       Carabaña, \n",
      "                  Casarrubuelos, \n",
      "                     Cercedilla, \n",
      "       Fresnedillas de la Oliva, \n",
      "                   Valdemaqueda, \n",
      "             Robledo de Chavela, \n",
      "        Miraflores de la Sierra, \n",
      "              Humanes de Madrid, \n",
      "          Valdetorres de Jarama, \n",
      "       San Agustín del Guadalix, \n",
      "                   Ciempozuelos, \n",
      "          Camarma de Esteruelas, \n",
      "           Torres de la Alameda, \n",
      "            Talamanca de Jarama, \n",
      "                      El Atazar, \n",
      "             Hoyo de Manzanares, \n",
      "El Boalo - Cerceda – Mataelpino, \n",
      "                       El Álamo, \n",
      "                     Valdilecha, \n",
      "           Valdeolmos-Alalpardo, \n",
      "          Guadalix de la Sierra, \n",
      "               Belmonte de Tajo, \n",
      "                      El Vellón, \n",
      "                        Brunete, \n",
      "                        Redueña, \n",
      "               Morata de Tajuña, \n",
      "                        Tielmes, \n",
      "         Gargantilla del Lozoya, \n",
      "                           Meco, \n",
      "                      Venturada, \n",
      "                       Quijorna, \n",
      "                    Cenicientos, \n",
      "            Torrejón de Velasco, \n",
      "                    Navacerrada, \n",
      "      Santa María de la Alameda, \n",
      "               Orusco de Tajuña, \n",
      "              Daganzo de Arriba, \n",
      "                     Villamanta, \n",
      "                       Anchuelo, \n",
      "                    Valdaracete, \n",
      "                        Ajalvir, \n",
      "        Los Santos de la Humosa, \n",
      "          Villamanrique de Tajo, \n",
      "              Colmenar de Oreja, \n",
      "                Villa del Prado, \n",
      "            Fuentidueña de Tajo, \n",
      "            Colmenar del Arroyo, \n",
      "                    Valdelaguna, \n",
      "              Cubas de la Sagra, \n",
      "                     Valdeavero, \n",
      "               Aldea del Fresno, \n",
      "                     Ribatejada, \n",
      "                    Torrelaguna, \n",
      "                         Batres, \n",
      "          Pezuela de las Torres, \n",
      "                    Colmenarejo, \n",
      "          Serranillos del Valle, \n",
      "                         Cobeña, \n",
      "                  Soto del Real, \n",
      "                    El Berrueco, \n",
      "          Villanueva de Perales, \n",
      "  Fresno de Torote - Serracines, \n",
      "                Pozuelo del Rey, \n",
      "            Pelayos de la Presa, \n",
      "                     La Cabrera, \n",
      "                   Nuevo Baztán, \n",
      "              Perales de Tajuña, \n",
      "                   Villaconejos, \n",
      "          Villarejo de Salvanés, \n",
      "         Cadalso de los Vidrios, \n",
      "                      Santorcaz, \n",
      "                       Madarcos, \n",
      "         Garganta de los Montes, \n",
      "                 Puentes Viejas, \n",
      "           Torremocha de Jarama, \n",
      "                     Valdemanco, \n",
      "                        Braojos, \n",
      "  Lozoyuela-navas-sieteiglesias, \n",
      "             Piñuécar-gandullas, \n",
      "                  Valdepiélagos, \n",
      "             Valverde de Alcalá, \n",
      "                Villar del Olmo, \n",
      "                  Villamantilla, \n",
      "           Horcajo de la Sierra, \n",
      "                       Gascones, \n",
      "                      Zarzalejo, \n",
      "          Villavieja del Lozoya, \n",
      "                   Brea de Tajo, \n",
      "                      Estremera, \n",
      "                     Chapinería, \n",
      "                   Navarredonda, \n",
      "                        Patones, \n",
      "                         Ambite, \n",
      "                   Navalafuente, \n",
      "                         Lozoya, \n",
      "                       Canencia, \n",
      "        Cabanillas de la Sierra, \n",
      "            Buitrago del Lozoya, \n",
      "               Fresno de Torote, \n",
      "                     Robregordo, \n",
      "              Pinilla del Valle, \n",
      "                      Rascafría, \n",
      "                     La Hiruela, \n",
      "           Montejo de la Sierra, \n"
     ]
    }
   ],
   "source": [
    "print(ds['level5'].value_counts())\n",
    "pop=ds[['level5']].drop_duplicates().reset_index(drop=True)+', '\n",
    "print('The data contain 168 unique populations: '+pop.to_string(index=False))\n",
    "\n"
   ]
  },
  {
   "attachments": {},
   "cell_type": "markdown",
   "id": "crazy-blame",
   "metadata": {},
   "source": [
    "#### Exercise 05. Does the dataset contain NAs? (★☆☆)\n",
    "\n",
    "Print a boolean value (`true` or `fase`) followed by the rows/cols that contains NAs."
   ]
  },
  {
   "cell_type": "code",
   "execution_count": 6,
   "id": "transparent-poetry",
   "metadata": {},
   "outputs": [
    {
     "name": "stdout",
     "output_type": "stream",
     "text": [
      "boolean to chech if there is at least ONE missing observation on each variable:\n",
      "Unnamed: 0          False\n",
      "id_realEstates      False\n",
      "isNew               False\n",
      "realEstate_name      True\n",
      "phone_realEstate     True\n",
      "url_inmueble        False\n",
      "rooms                True\n",
      "bathrooms            True\n",
      "surface              True\n",
      "price               False\n",
      "date                False\n",
      "description          True\n",
      "address             False\n",
      "country             False\n",
      "level1              False\n",
      "level2              False\n",
      "level3              False\n",
      "level4               True\n",
      "level5              False\n",
      "level6               True\n",
      "level7               True\n",
      "level8               True\n",
      "upperLevel          False\n",
      "countryId           False\n",
      "level1Id            False\n",
      "level2Id            False\n",
      "level3Id            False\n",
      "level4Id            False\n",
      "level5Id            False\n",
      "level6Id            False\n",
      "level7Id            False\n",
      "level8Id            False\n",
      "accuracy            False\n",
      "latitude            False\n",
      "longitude           False\n",
      "zipCode              True\n",
      "customZone           True\n",
      "dtype: bool\n"
     ]
    }
   ],
   "source": [
    "print('boolean to chech if there is at least ONE missing observation on each variable:'+ '\\n' + str(ds.isna().any()))\n",
    "\n"
   ]
  },
  {
   "attachments": {},
   "cell_type": "markdown",
   "id": "italic-hydrogen",
   "metadata": {},
   "source": [
    "#### Exercise 06. Delete the NAs of the dataset, if applicable (★★☆)\n",
    "\n",
    "Print a comparison between the dimensions of the original DataFrame versus the DataFrame after the deletions"
   ]
  },
  {
   "cell_type": "code",
   "execution_count": 7,
   "id": "administrative-roads",
   "metadata": {},
   "outputs": [
    {
     "name": "stdout",
     "output_type": "stream",
     "text": [
      "The original data frame contains: 15335 observations\n",
      "\n",
      "The result of dropping missing data is an empty DataFrame: 0 observations\n",
      "\n",
      "The result of dropping missing data, ignoring the 2 variables with the highest count of missings, is **STILL** an empty DataFrame: 0 observations\n",
      "\n",
      "The result of dropping missing data, ignoring the 3 variables with the highest count of missings, is a DataFrame with:  110 observations\n",
      "\n",
      "The result of dropping missing data, ignoring the 7 variables with the highest count of missings, is a DataFrame with:  12831 observations\n",
      "\n",
      "Note: Data framge drop3_ds is the one that preserves most of the observations from the original data.\n",
      "The goal to of preserving most of the data is to reduce the chances of drawing biased conclusions about the real state market in Madrid\n"
     ]
    }
   ],
   "source": [
    "#print('Count of missing data for each variable sorted: '+ str(ds.isna().sum().sort_values(ascending=False)))\n",
    "\n",
    "print('The original data frame contains: '+str(len(ds))+ ' observations')\n",
    "#deleting missing data:\n",
    "drop_ds=ds.dropna()\n",
    "print('\\n'+'The result of dropping missing data is an empty DataFrame: '+str(len(drop_ds))+ ' observations')\n",
    "\n",
    "#If I delete the 2 columns with the highest count of missings: zipCode and level6\n",
    "drop2_ds=ds.drop(columns=['level6', 'zipCode']).dropna()\n",
    "print('\\n'+'The result of dropping missing data, ignoring the 2 variables with the highest count of missings, is **STILL** an empty DataFrame: '+str(len(drop2_ds))+ ' observations')\n",
    "\n",
    "#If I delete the 3 columns with the highest count of missings: zipCode, level6, and custom zone\n",
    "drop2_ds=ds.drop(columns=['level6', 'zipCode','customZone']).dropna()\n",
    "print('\\n'+'The result of dropping missing data, ignoring the 3 variables with the highest count of missings, is a DataFrame with: ',str(len(drop2_ds))+' observations')\n",
    "\n",
    "#If I delete the 7 columns with the highest count of missings: zipCode, level6, and custom zone\n",
    "drop3_ds=ds.drop(columns=['level6','zipCode', 'customZone', 'level6', 'level8', 'level4', 'level7']).dropna() \n",
    "print('\\n'+'The result of dropping missing data, ignoring the 7 variables with the highest count of missings, is a DataFrame with: ',str(len(drop3_ds))+' observations')\n",
    "\n",
    "print('\\n'+'Note: Data framge drop3_ds is the one that preserves most of the observations from the original data.'\n",
    "        '\\n'+'The goal to of preserving most of the data is to reduce the chances of drawing biased conclusions about the real state market in Madrid')"
   ]
  },
  {
   "attachments": {},
   "cell_type": "markdown",
   "id": "middle-china",
   "metadata": {},
   "source": [
    "#### Exercise 07. Which is the mean of prices in the population (level5 column) of \"Arroyomolinos (Madrid)\"? (★★☆)\n",
    "\n",
    "Print the obtained value"
   ]
  },
  {
   "cell_type": "code",
   "execution_count": 8,
   "id": "nuclear-belief",
   "metadata": {},
   "outputs": [
    {
     "name": "stdout",
     "output_type": "stream",
     "text": [
      "The average home price in Arroyomolinos is: 298780 EUR\n"
     ]
    }
   ],
   "source": [
    "print('The average home price in Arroyomolinos is: '+str(int(drop3_ds[drop3_ds['level5']=='Arroyomolinos (Madrid)']['price'].mean()))+' EUR')\n"
   ]
  },
  {
   "attachments": {},
   "cell_type": "markdown",
   "id": "concerned-radical",
   "metadata": {},
   "source": [
    "#### Exercise 08. Plot the histogram of prices for the population (level5 column) of \"Arroyomolinos (Madrid)\" and explain what you observe (★★☆)\n",
    "\n",
    "Print the histogram of the prices and write in the Markdown cell a brief analysis about the plot."
   ]
  },
  {
   "cell_type": "code",
   "execution_count": 9,
   "id": "sudden-message",
   "metadata": {},
   "outputs": [
    {
     "data": {
      "image/png": "[encoded data removed]",
      "text/plain": [
       "<Figure size 640x480 with 1 Axes>"
      ]
     },
     "metadata": {},
     "output_type": "display_data"
    }
   ],
   "source": [
    "drop3_ds[drop3_ds['level5']=='Arroyomolinos (Madrid)']['price'].hist(bins=30)\n",
    "plt.show()\n"
   ]
  },
  {
   "attachments": {},
   "cell_type": "markdown",
   "id": "impressed-combination",
   "metadata": {},
   "source": [
    "Home prices in Arroyomolinos mostly range between 150,000 EUR and 400,000 EUR. There seems to be quite a few outliers of homes priced above 400k EUR"
   ]
  },
  {
   "attachments": {},
   "cell_type": "markdown",
   "id": "actual-edinburgh",
   "metadata": {},
   "source": [
    "#### Exercise 09. Is the average of \"Valdemorillo\" and \"Galapagar\" prices the same? (★★☆)\n",
    "\n",
    "Print the both average prices and then write a conclusion about them"
   ]
  },
  {
   "cell_type": "code",
   "execution_count": 10,
   "id": "numeric-commerce",
   "metadata": {},
   "outputs": [
    {
     "name": "stdout",
     "output_type": "stream",
     "text": [
      "The average house price in Valdemorillo is: 384269 EUR\n",
      "Whereas the average house price in Galapagar is: 381106\n",
      "Home prices are not exactly the same but they are close\n"
     ]
    }
   ],
   "source": [
    "print('The average house price in Valdemorillo is: '+ str(int(drop3_ds[drop3_ds['level5']=='Valdemorillo']['price'].mean()))+' EUR'+\n",
    "'\\n'+'Whereas the average house price in Galapagar is: '+ str(int(drop3_ds[drop3_ds['level5']=='Galapagar']['price'].mean()))\n",
    "+'\\n'+'Home prices are not exactly the same but they are close')\n",
    "\n"
   ]
  },
  {
   "attachments": {},
   "cell_type": "markdown",
   "id": "lonely-article",
   "metadata": {},
   "source": [
    "#### Exercise 10. Is the average of \"Valdemorillo\" and \"Galapagar\" price per square meter (price/m2) the same? (★★☆)\n",
    "\n",
    "Print the both average prices and then write a conclusion about\n",
    "\n",
    "Hint: Create a new column called `pps` (price per square) and then analyse the values"
   ]
  },
  {
   "cell_type": "code",
   "execution_count": 11,
   "id": "hourly-globe",
   "metadata": {},
   "outputs": [
    {
     "name": "stdout",
     "output_type": "stream",
     "text": [
      "The average price per square in Valdemorillo is: 1321 EUR\n",
      "Whereas the average house price per square in Galapagar is: 1566 EUR\n",
      "Home prices are not exactly the same but they are close\n"
     ]
    }
   ],
   "source": [
    "drop3_ds['pps']=drop3_ds['price']/drop3_ds['surface']\n",
    "\n",
    "print('The average price per square in Valdemorillo is: '+ str(int(drop3_ds[drop3_ds['level5']=='Valdemorillo']['pps'].mean()))+' EUR'+\n",
    "'\\n'+'Whereas the average house price per square in Galapagar is: '+ str(int(drop3_ds[drop3_ds['level5']=='Galapagar']['pps'].mean())) +' EUR'\n",
    "+'\\n'+'Home prices are not exactly the same but they are close')"
   ]
  },
  {
   "attachments": {},
   "cell_type": "markdown",
   "id": "pleasant-invite",
   "metadata": {},
   "source": [
    "#### Exercise 11. Analyse the relation between the surface and the price of the houses (★★☆)\n",
    "\n",
    "Hint: You can make a `scatter plot` and then write a conclusion about it"
   ]
  },
  {
   "cell_type": "code",
   "execution_count": 12,
   "id": "common-drilling",
   "metadata": {},
   "outputs": [
    {
     "data": {
      "image/png": "[encoded data removed]",
      "text/plain": [
       "<Figure size 640x480 with 1 Axes>"
      ]
     },
     "metadata": {},
     "output_type": "display_data"
    },
    {
     "data": {
      "image/png": "[encoded data removed]",
      "text/plain": [
       "<Figure size 640x480 with 1 Axes>"
      ]
     },
     "metadata": {},
     "output_type": "display_data"
    }
   ],
   "source": [
    "drop3_ds.plot(kind='scatter', x='surface', y='price')\n",
    "plt.show() \n",
    "drop3_ds[drop3_ds['surface']<200000].plot(kind='scatter',  y='price', x='surface')\n",
    "plt.show() "
   ]
  },
  {
   "attachments": {},
   "cell_type": "markdown",
   "id": "ahead-liquid",
   "metadata": {},
   "source": [
    "It's not easy to assess the relationship between these two variables as the first grapth shows there is an outlier data point close to 250000\n",
    "\n",
    "The second graph removes the outlier and it suggests a positive association between price and surface (i.e., a higher-surface home is correlated with a higher price)\n",
    "\n"
   ]
  },
  {
   "attachments": {},
   "cell_type": "markdown",
   "id": "coordinate-sunrise",
   "metadata": {},
   "source": [
    "#### Exercise 12. How many real estate agencies the dataset contains? (★★☆)\n",
    "\n",
    "Print the obtained value"
   ]
  },
  {
   "cell_type": "code",
   "execution_count": 13,
   "id": "valid-honolulu",
   "metadata": {},
   "outputs": [
    {
     "name": "stdout",
     "output_type": "stream",
     "text": [
      "The data contain 1444 real state agencies\n"
     ]
    }
   ],
   "source": [
    "print('The data contain '+ str(len(drop3_ds[['realEstate_name']].drop_duplicates()))\n",
    "+' real state agencies')"
   ]
  },
  {
   "attachments": {},
   "cell_type": "markdown",
   "id": "binding-ebony",
   "metadata": {},
   "source": [
    "#### Exercise 13. Which is the population (level5 column) that contains the most houses? (★★☆)\n",
    "\n",
    "Print both the population and the number of houses"
   ]
  },
  {
   "cell_type": "code",
   "execution_count": 14,
   "id": "static-perry",
   "metadata": {},
   "outputs": [
    {
     "name": "stdout",
     "output_type": "stream",
     "text": [
      "The population with the most house listings is(' Madrid Capital',) with 5658 listings\n"
     ]
    }
   ],
   "source": [
    "print('The population with the most house listings is'+\n",
    " str(drop3_ds[['level5']].value_counts(ascending=False).idxmax())\n",
    " +' with '+str(drop3_ds[['level5']].value_counts(ascending=False).max()) +' listings') "
   ]
  },
  {
   "attachments": {},
   "cell_type": "markdown",
   "id": "entire-classification",
   "metadata": {},
   "source": [
    "#### Exercise 14. Now let's work with the \"south belt\" of madrid. Make a subset of the original DataFrame that contains the following populations (level5 column): \"Fuenlabrada\",\"Leganés\",\"Getafe\",\"Alcorcón\" (★★☆)\n",
    "\n",
    "Hint: Filter the original DataFrame using the column `level5` and the function `isin`"
   ]
  },
  {
   "cell_type": "code",
   "execution_count": 15,
   "id": "binary-input",
   "metadata": {},
   "outputs": [],
   "source": [
    "south_belt=drop3_ds[drop3_ds['level5'].isin([\"Fuenlabrada\", \"Leganés\", \"Getafe\", \"Alcorcón\"])]\n"
   ]
  },
  {
   "attachments": {},
   "cell_type": "markdown",
   "id": "severe-fisher",
   "metadata": {},
   "source": [
    "#### Exercise 15. Make a bar plot of the median of the prices and explain what you observe (you must use the subset obtained in the question 14) (★★★)\n",
    "\n",
    "Print the bar of the median of the prices and write in the Markdown cell a brief analysis about the plot"
   ]
  },
  {
   "cell_type": "code",
   "execution_count": 16,
   "id": "lyric-bunch",
   "metadata": {},
   "outputs": [
    {
     "data": {
      "image/png": "[encoded data removed]",
      "text/plain": [
       "<Figure size 640x480 with 1 Axes>"
      ]
     },
     "metadata": {},
     "output_type": "display_data"
    }
   ],
   "source": [
    "south_belt.groupby('level5')['price'].median().plot(kind='bar')\n",
    "plt.show()\n"
   ]
  },
  {
   "attachments": {},
   "cell_type": "markdown",
   "id": "sublime-newspaper",
   "metadata": {},
   "source": [
    "In the south belth of Madrid, the area with the highest median home price is Getafe (~250K EUR), followed by Alcorcon the median home costs approximately 175,000 EUR"
   ]
  },
  {
   "attachments": {},
   "cell_type": "markdown",
   "id": "speaking-diamond",
   "metadata": {},
   "source": [
    "#### Exercise 16. Calculate the sample mean and variance of the variables: price, rooms, surface area and bathrooms (you must use the subset obtained in the question 14) (★★★)\n",
    "\n",
    "Print both values for each variable"
   ]
  },
  {
   "cell_type": "code",
   "execution_count": 17,
   "id": "random-feeling",
   "metadata": {},
   "outputs": [
    {
     "name": "stdout",
     "output_type": "stream",
     "text": [
      "             price     rooms      surface  bathrooms\n",
      "mean  2.205906e+05  3.001372   110.102881   1.615912\n",
      "var   1.529399e+10  0.710163  4212.971544   0.555571\n"
     ]
    }
   ],
   "source": [
    "print(south_belt[['price','rooms','surface','bathrooms']].agg(['mean','var']))\n",
    "\n"
   ]
  },
  {
   "attachments": {},
   "cell_type": "markdown",
   "id": "revolutionary-matrix",
   "metadata": {},
   "source": [
    "#### Exercise 17. What is the most expensive house of each population? You must use the subset obtained in the question 14 (★★☆)\n",
    "\n",
    "Print both the address and the price of the selected house of each population. You can print a DataFrame or a single line for each population"
   ]
  },
  {
   "cell_type": "code",
   "execution_count": 18,
   "id": "fifteen-browse",
   "metadata": {},
   "outputs": [
    {
     "name": "stdout",
     "output_type": "stream",
     "text": [
      "            level5                                address   price\n",
      "11561  Fuenlabrada  Calle de Paulo Freire, 5, Fuenlabrada  490000\n",
      "\n",
      "\n",
      "        level5                       address   price\n",
      "10412  Leganés  Avenida Reina Sofía, Leganés  650000\n",
      "\n",
      "\n",
      "      level5 address    price\n",
      "2881  Getafe  Getafe  1050000\n",
      "\n",
      "\n",
      "        level5   address   price\n",
      "5585  Alcorcón  Alcorcón  950000\n",
      "\n",
      "\n"
     ]
    }
   ],
   "source": [
    "for x in [\"Fuenlabrada\", \"Leganés\", \"Getafe\", \"Alcorcón\"]:\n",
    "    condition=(south_belt['price']==south_belt[south_belt['level5']==x]['price'].max()) \n",
    "    \n",
    "    print(south_belt[['level5','address','price']][condition])\n",
    "    print('\\n')\n",
    "\n"
   ]
  },
  {
   "attachments": {},
   "cell_type": "markdown",
   "id": "activated-knight",
   "metadata": {},
   "source": [
    "#### Exercise 18. Normalize the variable of prices for each population and plot the 4 histograms in the same plot (you must use the subset obtained in the question 14) (★★★)\n",
    "\n",
    "For the normalization method you can use the one you consider to, there is not a single correct answer to this question. Print the plot and write in the Markdown cell a brief analysis about the plot\n",
    "\n",
    "Hint: You can help yourself reviewing the multihist demo of Matplotlib"
   ]
  },
  {
   "cell_type": "code",
   "execution_count": 19,
   "id": "civic-meditation",
   "metadata": {},
   "outputs": [
    {
     "data": {
      "image/png": "[encoded data removed]",
      "text/plain": [
       "<Figure size 640x480 with 1 Axes>"
      ]
     },
     "metadata": {},
     "output_type": "display_data"
    }
   ],
   "source": [
    "norm = lambda x: (x - x.mean()) / x.std() \n",
    "south_belt.insert(len(south_belt.columns), 'norm_price', south_belt.groupby(['level5'])['price'].transform(norm)) #adds a new column to the dataframe with new prices\n",
    "\n",
    "south_belt.groupby('level5')['price'].hist(histtype='step', stacked=True, fill=False, legend=True)\n",
    "plt.show()\n"
   ]
  },
  {
   "attachments": {},
   "cell_type": "markdown",
   "id": "precise-heavy",
   "metadata": {},
   "source": [
    "In all 4 populations, most house prices range between 100,000 EUR and 500,000 EUR "
   ]
  },
  {
   "attachments": {},
   "cell_type": "markdown",
   "id": "patent-jonathan",
   "metadata": {},
   "source": [
    "#### Exercise 19. What can you say about the price per square meter (price/m2) between the towns of \"Getafe\" and \"Alcorcón\"? You must use the subset obtained in the question 14 (★★☆)\n",
    "\n",
    "Hint: Create a new column called `pps` (price per square) and then analyse the values"
   ]
  },
  {
   "cell_type": "code",
   "execution_count": 20,
   "id": "initial-liverpool",
   "metadata": {},
   "outputs": [
    {
     "name": "stdout",
     "output_type": "stream",
     "text": [
      "                 mean         std          min          max\n",
      "level5                                                     \n",
      "Alcorcón  2244.568484  536.998172  1158.227848  3698.159509\n",
      "Getafe    2088.189911  753.993443     0.000000  3827.160494\n",
      "Alcorcon has an average higher price per square meter than Getafe. Prices per square meter in Alcorcon \n",
      "range approximately from 1,100 to 3,600 EUR, whereas in Getafe prices range from 0 to 3800 EUR,\n",
      " suggesting that there may be some missing information for house prices in Getafe reported as 0\n",
      "\n",
      "                 mean  std          min          max\n",
      "level5                                              \n",
      "Alcorcón  1315.789474  NaN  1315.789474  1315.789474\n",
      "After recalculating, removing prices ==0, the average price per square meter in Getafe \n",
      "is still lower than that of Alcorcon, although now prices in Getafe range from roughly 1,00 \n",
      "to 3800 EUR per square meter\n"
     ]
    },
    {
     "data": {
      "image/png": "[encoded data removed]",
      "text/plain": [
       "<Figure size 640x480 with 1 Axes>"
      ]
     },
     "metadata": {},
     "output_type": "display_data"
    }
   ],
   "source": [
    "#NOTE: The pps was already calculated on excercise # 10\n",
    "print(south_belt[south_belt['level5'].isin(['Getafe','Alcorcón'])].groupby('level5')['pps'].agg(['mean', 'std', 'min', 'max']))\n",
    "print('Alcorcon has an average higher price per square meter than Getafe. Prices per square meter in Alcorcon ' +'\\n'+\n",
    "'range approximately from 1,100 to 3,600 EUR, whereas in Getafe prices range from 0 to 3800 EUR,' +'\\n'+\n",
    "' suggesting that there may be some missing information for house prices in Getafe reported as 0'+'\\n')\n",
    "\n",
    "condit=(south_belt['level5'].isin(['Getafe','Alcorcón'])& south_belt['pps']>0)\n",
    "print(south_belt[condition].groupby('level5')['pps'].agg(['mean', 'std', 'min', 'max']))\n",
    "print('After recalculating, removing prices ==0, the average price per square meter in Getafe '+'\\n'+\n",
    "'is still lower than that of Alcorcon, although now prices in Getafe range from roughly 1,00 '+'\\n'+\n",
    "'to 3800 EUR per square meter')\n",
    "\n",
    "south_belt[condit].groupby('level5')['pps'].hist(histtype='step', stacked=True, fill=False, legend=True)\n",
    "plt.show()"
   ]
  },
  {
   "cell_type": "markdown",
   "id": "f354a899",
   "metadata": {},
   "source": [
    "According to the histogram, and excluding prices==0, Getafe seems to have a greater number of listings both at the lower end and the higher end of the price per squared meters distribution"
   ]
  },
  {
   "attachments": {},
   "cell_type": "markdown",
   "id": "enhanced-moscow",
   "metadata": {},
   "source": [
    "#### Exercise 20. Make the same plot for 4 different populations (level5 column) and rearrange them on the same graph? You must use the subset obtained in the question 14 (★★☆) \n",
    "Hint: make a scatter plot of each population using subplots."
   ]
  },
  {
   "cell_type": "code",
   "execution_count": 21,
   "id": "accepting-airfare",
   "metadata": {},
   "outputs": [
    {
     "data": {
      "image/png": "[encoded data removed]",
      "text/plain": [
       "<Figure size 1000x800 with 4 Axes>"
      ]
     },
     "metadata": {},
     "output_type": "display_data"
    }
   ],
   "source": [
    "population_names = south_belt['level5'].unique() #storing unique values of level 5\n",
    "\n",
    "fig, axes = plt.subplots(2, 2, figsize=(10, 8)) # 2x2 grid of subplots\n",
    "\n",
    "# Loop through the unique population names and create subplots\n",
    "for i, location in enumerate(population_names):\n",
    "    row, col = divmod(i, 2)\n",
    "    ax = axes[row, col]\n",
    "    \n",
    "    data = south_belt[south_belt['level5'] == location]\n",
    "    ax.plot(data['surface'], data['price'], 'o')\n",
    "    ax.set_title(location)\n",
    "\n",
    "# Adjust layout and display the subplots\n",
    "plt.tight_layout()\n",
    "plt.show()\n"
   ]
  },
  {
   "attachments": {},
   "cell_type": "markdown",
   "id": "blocked-effects",
   "metadata": {},
   "source": [
    "#### Exercise 21. Make a plot of the coordinates (latitude and longitude columns) of the south belt of Madrid by color of each population (you must use the subset obtained in the question 14) (★★★★)\n",
    "\n",
    "Execute the following cell and then start coding in the next one. You must implement a simple code that transform the coordinates columns in a Python dictionary (add more information if needed) and then add it to the map"
   ]
  },
  {
   "cell_type": "code",
   "execution_count": 22,
   "id": "headed-privacy",
   "metadata": {},
   "outputs": [
    {
     "data": {
      "application/vnd.jupyter.widget-view+json": {
       "model_id": "2e94f014110244a7b2e5c65106d8e659",
       "version_major": 2,
       "version_minor": 0
      },
      "text/plain": [
       "Map(center=[60, -2.2], controls=(ZoomControl(options=['position', 'zoom_in_text', 'zoom_in_title', 'zoom_out_t…"
      ]
     },
     "execution_count": 22,
     "metadata": {},
     "output_type": "execute_result"
    }
   ],
   "source": [
    "from ipyleaflet import Map, basemaps, Marker, CircleMarker\n",
    "\n",
    "# Map centred on (60 degrees latitude et -2.2 degrees longitude)\n",
    "# Latitude, longitude\n",
    "map = Map(center = (60, -2.2), zoom = 2, min_zoom = 1, max_zoom = 20, \n",
    "    basemap=basemaps.Stamen.Terrain)\n",
    "map"
   ]
  },
  {
   "cell_type": "code",
   "execution_count": 23,
   "id": "present-mistress",
   "metadata": {},
   "outputs": [
    {
     "name": "stdout",
     "output_type": "stream",
     "text": [
      "latitude     object\n",
      "longitude    object\n",
      "dtype: object\n"
     ]
    },
    {
     "name": "stderr",
     "output_type": "stream",
     "text": [
      "/tmp/ipykernel_1927/670449850.py:5: SettingWithCopyWarning: \n",
      "A value is trying to be set on a copy of a slice from a DataFrame.\n",
      "Try using .loc[row_indexer,col_indexer] = value instead\n",
      "\n",
      "See the caveats in the documentation: https://pandas.pydata.org/pandas-docs/stable/user_guide/indexing.html#returning-a-view-versus-a-copy\n",
      "  south_belt['latitude'] = south_belt['latitude'].str.replace(',','.').astype('float64')\n",
      "/tmp/ipykernel_1927/670449850.py:6: SettingWithCopyWarning: \n",
      "A value is trying to be set on a copy of a slice from a DataFrame.\n",
      "Try using .loc[row_indexer,col_indexer] = value instead\n",
      "\n",
      "See the caveats in the documentation: https://pandas.pydata.org/pandas-docs/stable/user_guide/indexing.html#returning-a-view-versus-a-copy\n",
      "  south_belt['longitude'] = south_belt['longitude'].str.replace(',','.').astype('float64')\n"
     ]
    },
    {
     "data": {
      "application/vnd.jupyter.widget-view+json": {
       "model_id": "2e94f014110244a7b2e5c65106d8e659",
       "version_major": 2,
       "version_minor": 0
      },
      "text/plain": [
       "Map(center=[60, -2.2], controls=(ZoomControl(options=['position', 'zoom_in_text', 'zoom_in_title', 'zoom_out_t…"
      ]
     },
     "execution_count": 23,
     "metadata": {},
     "output_type": "execute_result"
    }
   ],
   "source": [
    "print(south_belt[['latitude', 'longitude']].dtypes)\n",
    "\n",
    "#NOTE:The coordinates are set up as strings since it uses ',' as decimal indicator. \n",
    "#In python decimals should use '.' as separator\n",
    "south_belt['latitude'] = south_belt['latitude'].str.replace(',','.').astype('float64')\n",
    "south_belt['longitude'] = south_belt['longitude'].str.replace(',','.').astype('float64')\n",
    "\n",
    "df = ds[['latitude', 'longitude','level5']]\n",
    "\n",
    "# Define a dictionary to map population names to marker colors\n",
    "population_colours = {\n",
    "    \"Fuenlabrada\": \"red\",\n",
    "    \"Leganés\": \"blue\",\n",
    "    \"Getafe\": \"green\",\n",
    "    \"Alcorcón\": \"purple\"\n",
    "}\n",
    "\n",
    "# Iterate through the DataFrame and add markers to the map\n",
    "for _, row in south_belt.iterrows():\n",
    "    latitude = row['latitude']\n",
    "    longitude = row['longitude']\n",
    "    population = row['level5']\n",
    "    color = population_colours.get(population, \"gray\")  # Default to gray if population not found\n",
    "    \n",
    "    marker = CircleMarker(location=(latitude, longitude), radius=5, color=color, fill=True, fill_color=color)\n",
    "    map.add_layer(marker)\n",
    "\n",
    "# Display the map\n",
    "map"
   ]
  }
 ],
 "metadata": {
  "kernelspec": {
   "display_name": "Python 3",
   "language": "python",
   "name": "python3"
  },
  "language_info": {
   "codemirror_mode": {
    "name": "ipython",
    "version": 3
   },
   "file_extension": ".py",
   "mimetype": "text/x-python",
   "name": "python",
   "nbconvert_exporter": "python",
   "pygments_lexer": "ipython3",
   "version": "3.11.4"
  }
 },
 "nbformat": 4,
 "nbformat_minor": 5
}
